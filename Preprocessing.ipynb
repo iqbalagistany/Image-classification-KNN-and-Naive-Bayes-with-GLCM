{
 "cells": [
  {
   "cell_type": "code",
   "execution_count": 2,
   "metadata": {},
   "outputs": [],
   "source": [
    "import numpy as np \n",
    "import cv2 \n",
    "import os\n",
    "import re"
   ]
  },
  {
   "cell_type": "code",
   "execution_count": 8,
   "metadata": {},
   "outputs": [],
   "source": [
    "def normalize_label(str_):\n",
    "    str_ = str_.replace(\" \", \"\")\n",
    "    str_ = str_.translate(str_.maketrans(\"\",\"\", \"()\"))\n",
    "    str_ = str_.split(\"_\")\n",
    "    return ''.join(str_[:2])\n",
    "\n",
    "def normalize_word(names):\n",
    "    text = '-'.join(names) if len(names) > 1 else names[0]\n",
    "    text = re.sub(r'\\d+', '', text)\n",
    "    text = text.replace(\".\", \"\")\n",
    "    text = text.strip()\n",
    "    return text\n",
    "\n",
    "def print_progress(val, val_len, folder, sub_folder, filename, bar_size=10):\n",
    "    progr = \"#\"*round((val)*bar_size/val_len) + \" \"*round((val_len - (val))*bar_size/val_len)\n",
    "    if val == 0:\n",
    "        print(\"\", end = \"\\n\")\n",
    "    else:\n",
    "        print(\"[%s] folder : %s/%s/ ----> file : %s\" % (progr, folder, sub_folder, filename), end=\"\\r\")"
   ]
  },
  {
   "cell_type": "code",
   "execution_count": 24,
   "metadata": {},
   "outputs": [
    {
     "name": "stdout",
     "output_type": "stream",
     "text": [
      "\n",
      "[##########] folder : Dataset/Daging Babi/ ----> file : IMG_20220110_094744.jpg\n",
      "[##########] folder : Dataset/Daging Kuda/ ----> file : IMG_20220110_110515.jpg\n",
      "[##########] folder : Dataset/Daging Sapi/ ----> file : IMG_20220107_083834.jpg\r"
     ]
    }
   ],
   "source": [
    "dataset_dir = \"Dataset\" \n",
    "\n",
    "imgs = [] #list image matrix \n",
    "labels = []\n",
    "header_labels = []\n",
    "descs = []\n",
    "for folder in os.listdir(dataset_dir):\n",
    "    for sub_folder in os.listdir(os.path.join(dataset_dir, folder)):\n",
    "        sub_folder_files = os.listdir(os.path.join(dataset_dir, folder, sub_folder))\n",
    "        len_sub_folder = len(sub_folder_files) - 1\n",
    "        for i, filename in enumerate(sub_folder_files):\n",
    "            img = cv2.imread(os.path.join(dataset_dir, folder, sub_folder, filename))\n",
    "            \n",
    "            gray = cv2.cvtColor(img, cv2.COLOR_BGR2GRAY)\n",
    "            \n",
    "            h, w = gray.shape\n",
    "            ymin, ymax, xmin, xmax = h//3, h*2//3, w//3, w*2//3\n",
    "            crop = gray[ymin:ymax, xmin:xmax]\n",
    "            \n",
    "            resize = cv2.resize(crop, (0,0), fx=0.5, fy=0.5)\n",
    "            \n",
    "            imgs.append(resize)\n",
    "            labels.append(normalize_label(os.path.splitext(sub_folder)[0]))\n",
    "            header_labels.append(normalize_word([folder]))\n",
    "            descs.append(normalize_word([folder, sub_folder]))\n",
    "            \n",
    "            print_progress(i, len_sub_folder, folder, sub_folder, filename)"
   ]
  },
  {
   "cell_type": "code",
   "execution_count": 25,
   "metadata": {},
   "outputs": [
    {
     "name": "stdout",
     "output_type": "stream",
     "text": [
      "DagingBabi \t: Dataset\n",
      "DagingSapi \t: Dataset\n",
      "DagingKuda \t: Dataset\n"
     ]
    }
   ],
   "source": [
    "for i in set(zip (header_labels, labels)):\n",
    "    print(i[1], \"\\t:\", i[0])"
   ]
  },
  {
   "cell_type": "code",
   "execution_count": 26,
   "metadata": {},
   "outputs": [],
   "source": [
    "cv2.imshow(\"test img\", imgs[10])"
   ]
  },
  {
   "cell_type": "code",
   "execution_count": 27,
   "metadata": {},
   "outputs": [
    {
     "data": {
      "text/plain": [
       "(146, 146)"
      ]
     },
     "execution_count": 27,
     "metadata": {},
     "output_type": "execute_result"
    }
   ],
   "source": [
    "imgs[8].shape"
   ]
  },
  {
   "cell_type": "code",
   "execution_count": 28,
   "metadata": {},
   "outputs": [
    {
     "data": {
      "text/plain": [
       "365"
      ]
     },
     "execution_count": 28,
     "metadata": {},
     "output_type": "execute_result"
    }
   ],
   "source": [
    "len(labels)"
   ]
  },
  {
   "cell_type": "code",
   "execution_count": 29,
   "metadata": {},
   "outputs": [],
   "source": [
    "from skimage.feature import greycomatrix, greycoprops\n",
    "import pandas as pd "
   ]
  },
  {
   "cell_type": "code",
   "execution_count": 30,
   "metadata": {},
   "outputs": [],
   "source": [
    "glcm = greycomatrix(imgs[100], distances=[5], angles=[0], levels=256,\n",
    "                    symmetric=True, normed=True)"
   ]
  },
  {
   "cell_type": "code",
   "execution_count": 31,
   "metadata": {},
   "outputs": [
    {
     "name": "stdout",
     "output_type": "stream",
     "text": [
      "dissimilarity \t: 14.6420\n",
      "correlation \t: 0.5349\n",
      "homogeneity \t: 0.1006\n",
      "contrast \t: 495.0603\n",
      "ASM \t\t: 0.0005\n",
      "energy \t\t: 0.0221\n"
     ]
    }
   ],
   "source": [
    "print('dissimilarity \\t: %.04f' % greycoprops(glcm, 'dissimilarity')[0, 0])\n",
    "print('correlation \\t: %.04f' % greycoprops(glcm, 'correlation')[0, 0])\n",
    "print('homogeneity \\t: %.04f' % greycoprops(glcm, 'homogeneity')[0, 0])\n",
    "print('contrast \\t: %.04f' % greycoprops(glcm, 'contrast')[0, 0])\n",
    "print('ASM \\t\\t: %.04f' % greycoprops(glcm, 'ASM')[0, 0])\n",
    "print('energy \\t\\t: %.04f' % greycoprops(glcm, 'energy')[0, 0])"
   ]
  },
  {
   "cell_type": "code",
   "execution_count": 32,
   "metadata": {},
   "outputs": [],
   "source": [
    "def calc_glcm_feature(img, label, dists=[5], agls=[0], lvl=256, sym=True, norm=True):\n",
    "    \n",
    "    glcm = greycomatrix(img, \n",
    "                        distances=dists, \n",
    "                        angles=agls, \n",
    "                        levels=lvl,\n",
    "                        symmetric=sym, \n",
    "                        normed=norm)\n",
    "    feature = []\n",
    "    feature.append(greycoprops(glcm, 'dissimilarity')[0, 0])\n",
    "    feature.append(greycoprops(glcm, 'correlation')[0, 0])\n",
    "    feature.append(greycoprops(glcm, 'homogeneity')[0, 0])\n",
    "    feature.append(greycoprops(glcm, 'contrast')[0, 0])\n",
    "    feature.append(greycoprops(glcm, 'ASM')[0, 0])\n",
    "    feature.append(greycoprops(glcm, 'energy')[0, 0])\n",
    "    feature.append(label)\n",
    "    \n",
    "    return feature"
   ]
  },
  {
   "cell_type": "code",
   "execution_count": 33,
   "metadata": {},
   "outputs": [],
   "source": [
    "glcm_features = []\n",
    "for img, label in zip(imgs, labels): \n",
    "    glcm_features.append(calc_glcm_feature(img, label))"
   ]
  },
  {
   "cell_type": "code",
   "execution_count": 34,
   "metadata": {},
   "outputs": [],
   "source": [
    "# Create the pandas DataFrame for GLCM features data\n",
    "glcm_features_df = pd.DataFrame(glcm_features, \n",
    "                                columns = ['dissimilarity', \n",
    "                                           'correlation',\n",
    "                                           'homogeneity',\n",
    "                                           'contrast',\n",
    "                                           'ASM',\n",
    "                                           'energy',\n",
    "                                           'label'])"
   ]
  },
  {
   "cell_type": "code",
   "execution_count": 1,
   "metadata": {},
   "outputs": [
    {
     "ename": "NameError",
     "evalue": "name 'glcm_features_df' is not defined",
     "output_type": "error",
     "traceback": [
      "\u001b[1;31m---------------------------------------------------------------------------\u001b[0m",
      "\u001b[1;31mNameError\u001b[0m                                 Traceback (most recent call last)",
      "\u001b[1;32m<ipython-input-1-c829be64cd50>\u001b[0m in \u001b[0;36m<module>\u001b[1;34m\u001b[0m\n\u001b[1;32m----> 1\u001b[1;33m \u001b[0mglcm_features_df\u001b[0m\u001b[1;33m[\u001b[0m\u001b[1;36m89\u001b[0m\u001b[1;33m:\u001b[0m\u001b[1;36m110\u001b[0m\u001b[1;33m]\u001b[0m\u001b[1;33m\u001b[0m\u001b[1;33m\u001b[0m\u001b[0m\n\u001b[0m",
      "\u001b[1;31mNameError\u001b[0m: name 'glcm_features_df' is not defined"
     ]
    }
   ],
   "source": [
    "glcm_features_df[89:110]"
   ]
  },
  {
   "cell_type": "code",
   "execution_count": 40,
   "metadata": {},
   "outputs": [],
   "source": [
    "glcm_features_df.to_csv(\"dataset_glcm.csv\")"
   ]
  },
  {
   "cell_type": "code",
   "execution_count": null,
   "metadata": {},
   "outputs": [],
   "source": []
  }
 ],
 "metadata": {
  "kernelspec": {
   "display_name": "Python 3",
   "language": "python",
   "name": "python3"
  },
  "language_info": {
   "codemirror_mode": {
    "name": "ipython",
    "version": 3
   },
   "file_extension": ".py",
   "mimetype": "text/x-python",
   "name": "python",
   "nbconvert_exporter": "python",
   "pygments_lexer": "ipython3",
   "version": "3.8.5"
  }
 },
 "nbformat": 4,
 "nbformat_minor": 4
}
