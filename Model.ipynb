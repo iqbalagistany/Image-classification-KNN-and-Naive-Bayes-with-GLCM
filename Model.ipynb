{
 "cells": [
  {
   "cell_type": "code",
   "execution_count": 2,
   "metadata": {},
   "outputs": [],
   "source": [
    "import pandas as pd\n",
    "df = pd.read_csv(\"dataset_glcm.csv\")"
   ]
  },
  {
   "cell_type": "code",
   "execution_count": 3,
   "metadata": {},
   "outputs": [
    {
     "data": {
      "text/html": [
       "<div>\n",
       "<style scoped>\n",
       "    .dataframe tbody tr th:only-of-type {\n",
       "        vertical-align: middle;\n",
       "    }\n",
       "\n",
       "    .dataframe tbody tr th {\n",
       "        vertical-align: top;\n",
       "    }\n",
       "\n",
       "    .dataframe thead th {\n",
       "        text-align: right;\n",
       "    }\n",
       "</style>\n",
       "<table border=\"1\" class=\"dataframe\">\n",
       "  <thead>\n",
       "    <tr style=\"text-align: right;\">\n",
       "      <th></th>\n",
       "      <th>Unnamed: 0</th>\n",
       "      <th>dissimilarity</th>\n",
       "      <th>correlation</th>\n",
       "      <th>homogeneity</th>\n",
       "      <th>contrast</th>\n",
       "      <th>ASM</th>\n",
       "      <th>energy</th>\n",
       "      <th>label</th>\n",
       "    </tr>\n",
       "  </thead>\n",
       "  <tbody>\n",
       "    <tr>\n",
       "      <th>0</th>\n",
       "      <td>0</td>\n",
       "      <td>7.087950</td>\n",
       "      <td>0.444164</td>\n",
       "      <td>0.199278</td>\n",
       "      <td>123.958966</td>\n",
       "      <td>0.001863</td>\n",
       "      <td>0.043158</td>\n",
       "      <td>DagingBabi</td>\n",
       "    </tr>\n",
       "    <tr>\n",
       "      <th>1</th>\n",
       "      <td>1</td>\n",
       "      <td>6.926877</td>\n",
       "      <td>0.676403</td>\n",
       "      <td>0.179638</td>\n",
       "      <td>109.822106</td>\n",
       "      <td>0.001175</td>\n",
       "      <td>0.034281</td>\n",
       "      <td>DagingBabi</td>\n",
       "    </tr>\n",
       "    <tr>\n",
       "      <th>2</th>\n",
       "      <td>2</td>\n",
       "      <td>6.728120</td>\n",
       "      <td>0.891495</td>\n",
       "      <td>0.164055</td>\n",
       "      <td>89.050759</td>\n",
       "      <td>0.000634</td>\n",
       "      <td>0.025186</td>\n",
       "      <td>DagingBabi</td>\n",
       "    </tr>\n",
       "    <tr>\n",
       "      <th>3</th>\n",
       "      <td>3</td>\n",
       "      <td>7.843624</td>\n",
       "      <td>0.915137</td>\n",
       "      <td>0.152728</td>\n",
       "      <td>127.887405</td>\n",
       "      <td>0.000555</td>\n",
       "      <td>0.023548</td>\n",
       "      <td>DagingBabi</td>\n",
       "    </tr>\n",
       "    <tr>\n",
       "      <th>4</th>\n",
       "      <td>4</td>\n",
       "      <td>10.753566</td>\n",
       "      <td>0.473615</td>\n",
       "      <td>0.152476</td>\n",
       "      <td>315.087119</td>\n",
       "      <td>0.001114</td>\n",
       "      <td>0.033370</td>\n",
       "      <td>DagingBabi</td>\n",
       "    </tr>\n",
       "  </tbody>\n",
       "</table>\n",
       "</div>"
      ],
      "text/plain": [
       "   Unnamed: 0  dissimilarity  correlation  homogeneity    contrast       ASM  \\\n",
       "0           0       7.087950     0.444164     0.199278  123.958966  0.001863   \n",
       "1           1       6.926877     0.676403     0.179638  109.822106  0.001175   \n",
       "2           2       6.728120     0.891495     0.164055   89.050759  0.000634   \n",
       "3           3       7.843624     0.915137     0.152728  127.887405  0.000555   \n",
       "4           4      10.753566     0.473615     0.152476  315.087119  0.001114   \n",
       "\n",
       "     energy       label  \n",
       "0  0.043158  DagingBabi  \n",
       "1  0.034281  DagingBabi  \n",
       "2  0.025186  DagingBabi  \n",
       "3  0.023548  DagingBabi  \n",
       "4  0.033370  DagingBabi  "
      ]
     },
     "execution_count": 3,
     "metadata": {},
     "output_type": "execute_result"
    }
   ],
   "source": [
    "df.head()"
   ]
  },
  {
   "cell_type": "code",
   "execution_count": 4,
   "metadata": {},
   "outputs": [],
   "source": [
    "df['label'] = df['label'].replace(['DagingBabi','DagingKuda','DagingSapi'],[0,1,2])"
   ]
  },
  {
   "cell_type": "code",
   "execution_count": 5,
   "metadata": {},
   "outputs": [
    {
     "data": {
      "text/html": [
       "<div>\n",
       "<style scoped>\n",
       "    .dataframe tbody tr th:only-of-type {\n",
       "        vertical-align: middle;\n",
       "    }\n",
       "\n",
       "    .dataframe tbody tr th {\n",
       "        vertical-align: top;\n",
       "    }\n",
       "\n",
       "    .dataframe thead th {\n",
       "        text-align: right;\n",
       "    }\n",
       "</style>\n",
       "<table border=\"1\" class=\"dataframe\">\n",
       "  <thead>\n",
       "    <tr style=\"text-align: right;\">\n",
       "      <th></th>\n",
       "      <th>Unnamed: 0</th>\n",
       "      <th>dissimilarity</th>\n",
       "      <th>correlation</th>\n",
       "      <th>homogeneity</th>\n",
       "      <th>contrast</th>\n",
       "      <th>ASM</th>\n",
       "      <th>energy</th>\n",
       "      <th>label</th>\n",
       "    </tr>\n",
       "  </thead>\n",
       "  <tbody>\n",
       "    <tr>\n",
       "      <th>0</th>\n",
       "      <td>0</td>\n",
       "      <td>7.087950</td>\n",
       "      <td>0.444164</td>\n",
       "      <td>0.199278</td>\n",
       "      <td>123.958966</td>\n",
       "      <td>0.001863</td>\n",
       "      <td>0.043158</td>\n",
       "      <td>0</td>\n",
       "    </tr>\n",
       "    <tr>\n",
       "      <th>1</th>\n",
       "      <td>1</td>\n",
       "      <td>6.926877</td>\n",
       "      <td>0.676403</td>\n",
       "      <td>0.179638</td>\n",
       "      <td>109.822106</td>\n",
       "      <td>0.001175</td>\n",
       "      <td>0.034281</td>\n",
       "      <td>0</td>\n",
       "    </tr>\n",
       "    <tr>\n",
       "      <th>2</th>\n",
       "      <td>2</td>\n",
       "      <td>6.728120</td>\n",
       "      <td>0.891495</td>\n",
       "      <td>0.164055</td>\n",
       "      <td>89.050759</td>\n",
       "      <td>0.000634</td>\n",
       "      <td>0.025186</td>\n",
       "      <td>0</td>\n",
       "    </tr>\n",
       "    <tr>\n",
       "      <th>3</th>\n",
       "      <td>3</td>\n",
       "      <td>7.843624</td>\n",
       "      <td>0.915137</td>\n",
       "      <td>0.152728</td>\n",
       "      <td>127.887405</td>\n",
       "      <td>0.000555</td>\n",
       "      <td>0.023548</td>\n",
       "      <td>0</td>\n",
       "    </tr>\n",
       "    <tr>\n",
       "      <th>4</th>\n",
       "      <td>4</td>\n",
       "      <td>10.753566</td>\n",
       "      <td>0.473615</td>\n",
       "      <td>0.152476</td>\n",
       "      <td>315.087119</td>\n",
       "      <td>0.001114</td>\n",
       "      <td>0.033370</td>\n",
       "      <td>0</td>\n",
       "    </tr>\n",
       "  </tbody>\n",
       "</table>\n",
       "</div>"
      ],
      "text/plain": [
       "   Unnamed: 0  dissimilarity  correlation  homogeneity    contrast       ASM  \\\n",
       "0           0       7.087950     0.444164     0.199278  123.958966  0.001863   \n",
       "1           1       6.926877     0.676403     0.179638  109.822106  0.001175   \n",
       "2           2       6.728120     0.891495     0.164055   89.050759  0.000634   \n",
       "3           3       7.843624     0.915137     0.152728  127.887405  0.000555   \n",
       "4           4      10.753566     0.473615     0.152476  315.087119  0.001114   \n",
       "\n",
       "     energy  label  \n",
       "0  0.043158      0  \n",
       "1  0.034281      0  \n",
       "2  0.025186      0  \n",
       "3  0.023548      0  \n",
       "4  0.033370      0  "
      ]
     },
     "execution_count": 5,
     "metadata": {},
     "output_type": "execute_result"
    }
   ],
   "source": [
    "df.head()"
   ]
  },
  {
   "cell_type": "code",
   "execution_count": 6,
   "metadata": {},
   "outputs": [],
   "source": [
    "x = df.drop('label', axis=1)\n",
    "y = df['label']"
   ]
  },
  {
   "cell_type": "code",
   "execution_count": 7,
   "metadata": {},
   "outputs": [],
   "source": [
    "from sklearn.model_selection import train_test_split\n",
    "from sklearn import metrics\n",
    "X_train, X_test, y_train, y_test = train_test_split(x,y, test_size = 0.20, random_state=21, stratify = y)"
   ]
  },
  {
   "cell_type": "code",
   "execution_count": 8,
   "metadata": {},
   "outputs": [],
   "source": [
    "from sklearn.neighbors import KNeighborsClassifier\n",
    "from sklearn.model_selection import GridSearchCV\n",
    "import numpy as np"
   ]
  },
  {
   "cell_type": "markdown",
   "metadata": {},
   "source": [
    "<h1>MODEL KNN </h1>"
   ]
  },
  {
   "cell_type": "code",
   "execution_count": 9,
   "metadata": {},
   "outputs": [],
   "source": [
    "model = KNeighborsClassifier(5)"
   ]
  },
  {
   "cell_type": "code",
   "execution_count": 10,
   "metadata": {},
   "outputs": [
    {
     "data": {
      "text/plain": [
       "KNeighborsClassifier()"
      ]
     },
     "execution_count": 10,
     "metadata": {},
     "output_type": "execute_result"
    }
   ],
   "source": [
    "model.fit(X_train, y_train)"
   ]
  },
  {
   "cell_type": "code",
   "execution_count": 11,
   "metadata": {},
   "outputs": [
    {
     "name": "stdout",
     "output_type": "stream",
     "text": [
      "0.9657534246575342\n"
     ]
    }
   ],
   "source": [
    "#data train accuracy\n",
    "y_pred = model.predict(X_train)\n",
    "print(metrics.accuracy_score(y_train, y_pred))"
   ]
  },
  {
   "cell_type": "code",
   "execution_count": 12,
   "metadata": {},
   "outputs": [
    {
     "name": "stdout",
     "output_type": "stream",
     "text": [
      "0.863013698630137\n"
     ]
    }
   ],
   "source": [
    "#data test accuracy\n",
    "y_pred = model.predict(X_test)\n",
    "print(metrics.accuracy_score(y_test, y_pred))"
   ]
  },
  {
   "cell_type": "code",
   "execution_count": 15,
   "metadata": {},
   "outputs": [],
   "source": [
    "# save the model to disk\n",
    "import pickle\n",
    "filename = 'KNN Model.sav'\n",
    "pickle.dump(model, open(filename, 'wb'))"
   ]
  },
  {
   "cell_type": "markdown",
   "metadata": {},
   "source": [
    "<h1>MODEL NAIVE BAYES</h1>"
   ]
  },
  {
   "cell_type": "code",
   "execution_count": 16,
   "metadata": {},
   "outputs": [],
   "source": [
    "from sklearn.naive_bayes import GaussianNB"
   ]
  },
  {
   "cell_type": "code",
   "execution_count": 17,
   "metadata": {},
   "outputs": [],
   "source": [
    "model = GaussianNB()"
   ]
  },
  {
   "cell_type": "code",
   "execution_count": 18,
   "metadata": {},
   "outputs": [
    {
     "data": {
      "text/plain": [
       "GaussianNB()"
      ]
     },
     "execution_count": 18,
     "metadata": {},
     "output_type": "execute_result"
    }
   ],
   "source": [
    "model.fit(X_train, y_train)"
   ]
  },
  {
   "cell_type": "code",
   "execution_count": 19,
   "metadata": {},
   "outputs": [
    {
     "name": "stdout",
     "output_type": "stream",
     "text": [
      "0.9554794520547946\n"
     ]
    }
   ],
   "source": [
    "#data train accuracy\n",
    "y_pred = model.predict(X_train)\n",
    "print(metrics.accuracy_score(y_train, y_pred))"
   ]
  },
  {
   "cell_type": "code",
   "execution_count": 20,
   "metadata": {},
   "outputs": [
    {
     "name": "stdout",
     "output_type": "stream",
     "text": [
      "0.9178082191780822\n"
     ]
    }
   ],
   "source": [
    "#data test accuracy\n",
    "y_pred = model.predict(X_test)\n",
    "print(metrics.accuracy_score(y_test, y_pred))"
   ]
  },
  {
   "cell_type": "code",
   "execution_count": 21,
   "metadata": {},
   "outputs": [],
   "source": [
    "# save the model to disk\n",
    "filename = 'Naive Bayes Model.sav'\n",
    "pickle.dump(model, open(filename, 'wb'))"
   ]
  }
 ],
 "metadata": {
  "kernelspec": {
   "display_name": "Python 3",
   "language": "python",
   "name": "python3"
  },
  "language_info": {
   "codemirror_mode": {
    "name": "ipython",
    "version": 3
   },
   "file_extension": ".py",
   "mimetype": "text/x-python",
   "name": "python",
   "nbconvert_exporter": "python",
   "pygments_lexer": "ipython3",
   "version": "3.8.5"
  }
 },
 "nbformat": 4,
 "nbformat_minor": 4
}
